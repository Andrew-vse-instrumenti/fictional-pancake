{
 "cells": [
  {
   "cell_type": "code",
   "execution_count": 1,
   "id": "3436c482-3614-4d1a-85fe-2366ab75b89c",
   "metadata": {},
   "outputs": [],
   "source": [
    "import pandas as pd"
   ]
  },
  {
   "cell_type": "code",
   "execution_count": 33,
   "id": "7300f778-b9e0-4721-82dc-c33cacb68ee1",
   "metadata": {},
   "outputs": [],
   "source": [
    "df = pd.read_csv('Эвристика.csv', sep=';')[4:-1]\n",
    "\n",
    "df.columns = df.head(1).values[0]\n",
    "df = df[1:]\n",
    "df.fillna(0, inplace=True)\n",
    "df.rename(columns={'Названия строк':'date', 'Общий итог':'sum'}, inplace=True)"
   ]
  },
  {
   "cell_type": "markdown",
   "id": "b4ca22f4-7762-489a-844e-a336efbbf059",
   "metadata": {},
   "source": [
    "Общий итог можно использовать для коррректировки поставщиков к общей для них тенденции"
   ]
  },
  {
   "cell_type": "code",
   "execution_count": 36,
   "id": "0830bc26-0db5-4f77-a55e-c5f9e08a4d3d",
   "metadata": {},
   "outputs": [],
   "source": [
    "df. date = pd.to_datetime(df.date)"
   ]
  },
  {
   "cell_type": "code",
   "execution_count": 39,
   "id": "b73c751c-88c7-4bf9-9685-81d17a51e43a",
   "metadata": {},
   "outputs": [
    {
     "data": {
      "text/plain": [
       "1    80\n",
       "Name: date, dtype: int64"
      ]
     },
     "execution_count": 39,
     "metadata": {},
     "output_type": "execute_result"
    }
   ],
   "source": [
    "df.date.dt.day_of_year.value_counts().value_counts()"
   ]
  }
 ],
 "metadata": {
  "kernelspec": {
   "display_name": "Python 3 (ipykernel)",
   "language": "python",
   "name": "python3"
  },
  "language_info": {
   "codemirror_mode": {
    "name": "ipython",
    "version": 3
   },
   "file_extension": ".py",
   "mimetype": "text/x-python",
   "name": "python",
   "nbconvert_exporter": "python",
   "pygments_lexer": "ipython3",
   "version": "3.10.4"
  }
 },
 "nbformat": 4,
 "nbformat_minor": 5
}
