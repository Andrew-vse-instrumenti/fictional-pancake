{
 "cells": [
  {
   "cell_type": "code",
   "execution_count": 5,
   "id": "5cfaf9c9-0fd4-4176-8c1a-7b6b9c080b4a",
   "metadata": {},
   "outputs": [],
   "source": [
    "import pandas as pd\n",
    "covid  = pd.read_csv('countries-aggregated.csv')\n",
    "covid = covid [covid .Country == 'Russia']\n",
    "covid = covid[['Date','Confirmed']]"
   ]
  },
  {
   "cell_type": "code",
   "execution_count": 10,
   "id": "8ca01b5e-d28c-497e-a93b-f59ce23ab6eb",
   "metadata": {},
   "outputs": [],
   "source": []
  },
  {
   "cell_type": "code",
   "execution_count": 12,
   "id": "b5aa0fa1-3d7c-4739-bad3-f8902a24bd87",
   "metadata": {},
   "outputs": [
    {
     "data": {
      "text/html": [
       "<div>\n",
       "<style scoped>\n",
       "    .dataframe tbody tr th:only-of-type {\n",
       "        vertical-align: middle;\n",
       "    }\n",
       "\n",
       "    .dataframe tbody tr th {\n",
       "        vertical-align: top;\n",
       "    }\n",
       "\n",
       "    .dataframe thead th {\n",
       "        text-align: right;\n",
       "    }\n",
       "</style>\n",
       "<table border=\"1\" class=\"dataframe\">\n",
       "  <thead>\n",
       "    <tr style=\"text-align: right;\">\n",
       "      <th></th>\n",
       "      <th>Date</th>\n",
       "      <th>Confirmed</th>\n",
       "    </tr>\n",
       "  </thead>\n",
       "  <tbody>\n",
       "    <tr>\n",
       "      <th>118320</th>\n",
       "      <td>2020-01-22</td>\n",
       "      <td>0</td>\n",
       "    </tr>\n",
       "    <tr>\n",
       "      <th>118321</th>\n",
       "      <td>2020-01-23</td>\n",
       "      <td>0</td>\n",
       "    </tr>\n",
       "    <tr>\n",
       "      <th>118322</th>\n",
       "      <td>2020-01-24</td>\n",
       "      <td>0</td>\n",
       "    </tr>\n",
       "    <tr>\n",
       "      <th>118323</th>\n",
       "      <td>2020-01-25</td>\n",
       "      <td>0</td>\n",
       "    </tr>\n",
       "    <tr>\n",
       "      <th>118324</th>\n",
       "      <td>2020-01-26</td>\n",
       "      <td>0</td>\n",
       "    </tr>\n",
       "    <tr>\n",
       "      <th>...</th>\n",
       "      <td>...</td>\n",
       "      <td>...</td>\n",
       "    </tr>\n",
       "    <tr>\n",
       "      <th>119131</th>\n",
       "      <td>2022-04-12</td>\n",
       "      <td>17756183</td>\n",
       "    </tr>\n",
       "    <tr>\n",
       "      <th>119132</th>\n",
       "      <td>2022-04-13</td>\n",
       "      <td>17767760</td>\n",
       "    </tr>\n",
       "    <tr>\n",
       "      <th>119133</th>\n",
       "      <td>2022-04-14</td>\n",
       "      <td>17778928</td>\n",
       "    </tr>\n",
       "    <tr>\n",
       "      <th>119134</th>\n",
       "      <td>2022-04-15</td>\n",
       "      <td>17790211</td>\n",
       "    </tr>\n",
       "    <tr>\n",
       "      <th>119135</th>\n",
       "      <td>2022-04-16</td>\n",
       "      <td>17801103</td>\n",
       "    </tr>\n",
       "  </tbody>\n",
       "</table>\n",
       "<p>816 rows × 2 columns</p>\n",
       "</div>"
      ],
      "text/plain": [
       "              Date  Confirmed\n",
       "118320  2020-01-22          0\n",
       "118321  2020-01-23          0\n",
       "118322  2020-01-24          0\n",
       "118323  2020-01-25          0\n",
       "118324  2020-01-26          0\n",
       "...            ...        ...\n",
       "119131  2022-04-12   17756183\n",
       "119132  2022-04-13   17767760\n",
       "119133  2022-04-14   17778928\n",
       "119134  2022-04-15   17790211\n",
       "119135  2022-04-16   17801103\n",
       "\n",
       "[816 rows x 2 columns]"
      ]
     },
     "execution_count": 12,
     "metadata": {},
     "output_type": "execute_result"
    }
   ],
   "source": [
    "covid"
   ]
  }
 ],
 "metadata": {
  "kernelspec": {
   "display_name": "Python 3 (ipykernel)",
   "language": "python",
   "name": "python3"
  },
  "language_info": {
   "codemirror_mode": {
    "name": "ipython",
    "version": 3
   },
   "file_extension": ".py",
   "mimetype": "text/x-python",
   "name": "python",
   "nbconvert_exporter": "python",
   "pygments_lexer": "ipython3",
   "version": "3.10.4"
  }
 },
 "nbformat": 4,
 "nbformat_minor": 5
}
